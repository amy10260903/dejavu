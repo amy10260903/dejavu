{
 "cells": [
  {
   "cell_type": "code",
   "execution_count": null,
   "metadata": {
    "scrolled": false
   },
   "outputs": [
    {
     "name": "stdout",
     "output_type": "stream",
     "text": [
      "mp3/Ed Sheeran - Shape of You [Official Video].mp3 already fingerprinted, continuing...\n",
      "mp3/Brad-Sucks--Total-Breakdown.mp3 already fingerprinted, continuing...\n",
      "mp3/Mayday五月天--我不願讓你一個人I Wont Let You Be Lonely.mp3 already fingerprinted, continuing...\n",
      "mp3/Josh-Woodward--I-Want-To-Destroy-Something-Beautiful.mp3 already fingerprinted, continuing...\n",
      "mp3/Sean-Fournier--Falling-For-You.mp3 already fingerprinted, continuing...\n",
      "mp3/The-Lights-Galaxia--While-She-Sleeps.mp3 already fingerprinted, continuing...\n",
      "mp3/Maroon 5 - Sugar.mp3 already fingerprinted, continuing...\n",
      "mp3/謝和弦 R-chord--在沒有你以後 Without you Feat.mp3 already fingerprinted, continuing...\n",
      "mp3/Passenger  Let Her Go (Official Video).mp3 already fingerprinted, continuing...\n",
      "mp3/Choc--Eigenvalue-Subspace-Decomposition.mp3 already fingerprinted, continuing...\n"
     ]
    }
   ],
   "source": [
    "import warnings\n",
    "import json\n",
    "warnings.filterwarnings(\"ignore\")\n",
    "\n",
    "from dejavu import Dejavu\n",
    "from dejavu.recognize import FileRecognizer, MicrophoneRecognizer\n",
    "\n",
    "# load config from a JSON file (or anything outputting a python dictionary)\n",
    "with open(\"dejavu.cnf.COS\") as f:\n",
    "    config = json.load(f)\n",
    "\n",
    "if __name__ == '__main__':\n",
    "\n",
    "\t# create a Dejavu instance\n",
    "\tdjv = Dejavu(config)\n",
    "\n",
    "\t# Fingerprint all the mp3's in the directory we give it\n",
    "\tdjv.fingerprint_directory(\"mp3\", [\".mp3\"])\n",
    "\n",
    "\t# Recognize audio from a file\n",
    "\tsong = djv.recognize(FileRecognizer, \"mp3/Ed Sheeran - Shape of You [Official Video].mp3\")\n",
    "\tprint(\"From file we recognized: %s\\n\" % song)\n",
    "\n",
    "\n",
    "\t# Or recognize audio from your microphone for `secs` seconds\n",
    "\tsecs = 5\n",
    "\tsong = djv.recognize(MicrophoneRecognizer, seconds=secs)\n",
    "\tif song is None:\n",
    "\t\tprint(\"Nothing recognized -- did you play the song out loud so your mic could hear it? :)\")\n",
    "\telse:\n",
    "\t\tprint(\"From mic with %d seconds we recognized: %s\\n\" % (secs, song))\n",
    "\n",
    "\t# Or use a recognizer without the shortcut, in anyway you would like\n",
    "\trecognizer = FileRecognizer(djv)\n",
    "\tsong = recognizer.recognize_file(\"mp3/Josh-Woodward--I-Want-To-Destroy-Something-Beautiful.mp3\")\n",
    "\tprint(\"No shortcut, we recognized: %s\\n\" % song)"
   ]
  },
  {
   "cell_type": "code",
   "execution_count": null,
   "metadata": {
    "collapsed": true
   },
   "outputs": [],
   "source": []
  }
 ],
 "metadata": {
  "kernelspec": {
   "display_name": "Python 3",
   "language": "python",
   "name": "python3"
  },
  "language_info": {
   "codemirror_mode": {
    "name": "ipython",
    "version": 3
   },
   "file_extension": ".py",
   "mimetype": "text/x-python",
   "name": "python",
   "nbconvert_exporter": "python",
   "pygments_lexer": "ipython3",
   "version": "3.6.3"
  }
 },
 "nbformat": 4,
 "nbformat_minor": 2
}
