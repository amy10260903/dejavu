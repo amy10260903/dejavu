{
 "cells": [
  {
   "cell_type": "code",
   "execution_count": 1,
   "metadata": {
    "scrolled": false
   },
   "outputs": [
    {
     "name": "stdout",
     "output_type": "stream",
     "text": [
      "mp3/Brad-Sucks--Total-Breakdown.mp3 already fingerprinted, continuing...\n",
      "mp3/Josh-Woodward--I-Want-To-Destroy-Something-Beautiful.mp3 already fingerprinted, continuing...\n",
      "mp3/Sean-Fournier--Falling-For-You.mp3 already fingerprinted, continuing...\n",
      "mp3/The-Lights-Galaxia--While-She-Sleeps.mp3 already fingerprinted, continuing...\n",
      "mp3/Choc--Eigenvalue-Subspace-Decomposition.mp3 already fingerprinted, continuing...\n",
      "From file we recognized: {'song_id': 3, 'song_name': 'Sean-Fournier--Falling-For-You', 'confidence': 127443, 'offset': 0, 'offset_seconds': 0.0, 'file_sha1': 'A9D18B9B9DAA467350D1B6B249C36759282B962E', 'match_time': 26.189547300338745}\n",
      "\n",
      "Nothing recognized -- did you play the song out loud so your mic could hear it? :)\n",
      "No shortcut, we recognized: {'song_id': 4, 'song_name': 'Josh-Woodward--I-Want-To-Destroy-Something-Beautiful', 'confidence': 127098, 'offset': 0, 'offset_seconds': 0.0, 'file_sha1': 'C6364099D8E0DC297956EC9D8B2AC1B83403D407', 'match_time': 27.824742317199707}\n",
      "\n"
     ]
    }
   ],
   "source": [
    "import warnings\n",
    "import json\n",
    "warnings.filterwarnings(\"ignore\")\n",
    "\n",
    "from dejavu import Dejavu\n",
    "from dejavu.recognize import FileRecognizer, MicrophoneRecognizer\n",
    "\n",
    "# load config from a JSON file (or anything outputting a python dictionary)\n",
    "with open(\"dejavu.cnf.COS\") as f:\n",
    "    config = json.load(f)\n",
    "\n",
    "if __name__ == '__main__':\n",
    "\n",
    "\t# create a Dejavu instance\n",
    "\tdjv = Dejavu(config)\n",
    "\n",
    "\t# Fingerprint all the mp3's in the directory we give it\n",
    "\tdjv.fingerprint_directory(\"mp3\", [\".mp3\"])\n",
    "\n",
    "\t# Recognize audio from a file\n",
    "\tsong = djv.recognize(FileRecognizer, \"mp3/Sean-Fournier--Falling-For-You.mp3\")\n",
    "\tprint(\"From file we recognized: %s\\n\" % song)\n",
    "\n",
    "\t# Or recognize audio from your microphone for `secs` seconds\n",
    "\tsecs = 5\n",
    "\tsong = djv.recognize(MicrophoneRecognizer, seconds=secs)\n",
    "\tif song is None:\n",
    "\t\tprint(\"Nothing recognized -- did you play the song out loud so your mic could hear it? :)\")\n",
    "\telse:\n",
    "\t\tprint(\"From mic with %d seconds we recognized: %s\\n\" % (secs, song))\n",
    "\n",
    "\t# Or use a recognizer without the shortcut, in anyway you would like\n",
    "\trecognizer = FileRecognizer(djv)\n",
    "\tsong = recognizer.recognize_file(\"mp3/Josh-Woodward--I-Want-To-Destroy-Something-Beautiful.mp3\")\n",
    "\tprint(\"No shortcut, we recognized: %s\\n\" % song)"
   ]
  },
  {
   "cell_type": "code",
   "execution_count": null,
   "metadata": {
    "collapsed": true
   },
   "outputs": [],
   "source": []
  }
 ],
 "metadata": {
  "kernelspec": {
   "display_name": "Python 3",
   "language": "python",
   "name": "python3"
  },
  "language_info": {
   "codemirror_mode": {
    "name": "ipython",
    "version": 3
   },
   "file_extension": ".py",
   "mimetype": "text/x-python",
   "name": "python",
   "nbconvert_exporter": "python",
   "pygments_lexer": "ipython3",
   "version": "3.6.3"
  }
 },
 "nbformat": 4,
 "nbformat_minor": 2
}
